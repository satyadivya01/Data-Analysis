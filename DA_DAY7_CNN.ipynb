{
  "nbformat": 4,
  "nbformat_minor": 0,
  "metadata": {
    "colab": {
      "provenance": []
    },
    "kernelspec": {
      "name": "python3",
      "display_name": "Python 3"
    },
    "language_info": {
      "name": "python"
    }
  },
  "cells": [
    {
      "cell_type": "code",
      "source": [
        "import tensorflow as tf\n",
        "from tensorflow import keras\n",
        "from tensorflow.keras import layers\n",
        "from tensorflow.keras.preprocessing.image import ImageDataGenerator\n",
        "# Define image size and batch size\n",
        "IMG_SIZE = 224\n",
        "BATCH_SIZE = 32"
      ],
      "metadata": {
        "id": "5JkNfgQ58Hli"
      },
      "execution_count": null,
      "outputs": []
    },
    {
      "cell_type": "code",
      "source": [
        "#Define data generators for train, validation and test sets\n",
        "train_datagen = ImageDataGenerator(rescale=1./225,validation_split=0.2)\n",
        "train_generator= train_datagen.flow_from_directory('/content/drive/MyDrive/Brain_Tumor_Detection/train',\n",
        "    target_size = (IMG_SIZE, IMG_SIZE),\n",
        "    batch_size = BATCH_SIZE,\n",
        "    class_mode = 'binary',\n",
        "    subset = 'training'\n",
        ")\n",
        "\n",
        "val_generator= train_datagen.flow_from_directory('/content/drive/MyDrive/Brain_Tumor_Detection/train',\n",
        "    target_size = (IMG_SIZE, IMG_SIZE),\n",
        "    batch_size = BATCH_SIZE,\n",
        "    class_mode = 'binary',\n",
        "    subset = 'validation'\n",
        ")\n",
        "\n",
        "test_datagen = ImageDataGenerator(rescale=1./225)\n",
        "\n",
        "test_generator= test_datagen.flow_from_directory('/content/drive/MyDrive/Brain_Tumor_Detection/test',\n",
        "    target_size = (IMG_SIZE, IMG_SIZE),\n",
        "    batch_size = BATCH_SIZE,\n",
        "    class_mode ='binary'\n",
        ")"
      ],
      "metadata": {
        "colab": {
          "base_uri": "https://localhost:8080/"
        },
        "id": "A4ctfI5HhbBV",
        "outputId": "a2f5f84c-c8fd-4796-87d1-fa23a0b87aeb"
      },
      "execution_count": null,
      "outputs": [
        {
          "output_type": "stream",
          "name": "stdout",
          "text": [
            "Found 2400 images belonging to 2 classes.\n",
            "Found 600 images belonging to 2 classes.\n",
            "Found 60 images belonging to 1 classes.\n"
          ]
        }
      ]
    },
    {
      "cell_type": "code",
      "source": [
        "from google.colab import drive\n",
        "drive.mount('/content/drive')"
      ],
      "metadata": {
        "colab": {
          "base_uri": "https://localhost:8080/"
        },
        "id": "3GTRQ9eMiGGQ",
        "outputId": "a3187af1-47f3-450f-8724-eacfd394110d"
      },
      "execution_count": null,
      "outputs": [
        {
          "output_type": "stream",
          "name": "stdout",
          "text": [
            "Mounted at /content/drive\n"
          ]
        }
      ]
    },
    {
      "cell_type": "code",
      "source": [
        "#define the model\n",
        "model=keras.Sequential([\n",
        "    layers.Conv2D(32,(3,3),activation='relu',input_shape=(IMG_SIZE,IMG_SIZE,3)),\n",
        "    layers.MaxPooling2D((2,2)),\n",
        "    layers.Conv2D(64,(3,3),activation='relu'),\n",
        "    layers.MaxPooling2D((2,2)),\n",
        "    layers.Conv2D(128,(3,3),activation='relu'),\n",
        "    layers.MaxPooling2D((2,2)),\n",
        "    layers.Flatten(),\n",
        "    layers.Dense(128,activation='relu'),\n",
        "    layers.Dense(1,activation='sigmoid')\n",
        "])"
      ],
      "metadata": {
        "id": "LZIuVbKBizIm"
      },
      "execution_count": null,
      "outputs": []
    },
    {
      "cell_type": "code",
      "source": [
        "#compile the model\n",
        "model.compile(optimizer='adam',loss='binary_crossentropy',metrics=['accuracy'])"
      ],
      "metadata": {
        "id": "LfpfPwRnnE7L"
      },
      "execution_count": null,
      "outputs": []
    },
    {
      "cell_type": "code",
      "source": [
        "history=model.fit(train_generator,validation_data=val_generator,epochs=5)"
      ],
      "metadata": {
        "colab": {
          "base_uri": "https://localhost:8080/"
        },
        "id": "Ln4RPUsar4Zi",
        "outputId": "90744a0b-8219-4be9-ab88-229bb8437132"
      },
      "execution_count": null,
      "outputs": [
        {
          "output_type": "stream",
          "name": "stdout",
          "text": [
            "Epoch 1/5\n",
            "75/75 [==============================] - 719s 10s/step - loss: 0.5029 - accuracy: 0.7933 - val_loss: 0.3130 - val_accuracy: 0.8583\n",
            "Epoch 2/5\n",
            "75/75 [==============================] - 289s 4s/step - loss: 0.2232 - accuracy: 0.9117 - val_loss: 0.1394 - val_accuracy: 0.9400\n",
            "Epoch 3/5\n",
            "75/75 [==============================] - 283s 4s/step - loss: 0.1020 - accuracy: 0.9679 - val_loss: 0.0659 - val_accuracy: 0.9817\n",
            "Epoch 4/5\n",
            "75/75 [==============================] - 304s 4s/step - loss: 0.0527 - accuracy: 0.9867 - val_loss: 0.0630 - val_accuracy: 0.9767\n",
            "Epoch 5/5\n",
            "75/75 [==============================] - 308s 4s/step - loss: 0.0273 - accuracy: 0.9933 - val_loss: 0.0094 - val_accuracy: 1.0000\n"
          ]
        }
      ]
    },
    {
      "cell_type": "code",
      "source": [
        "model.save(\"Model.h5\",\"label.txt\")"
      ],
      "metadata": {
        "colab": {
          "base_uri": "https://localhost:8080/"
        },
        "id": "oGvzx7AHoee0",
        "outputId": "0f07730b-b46a-403b-ab14-621fe3d4717c"
      },
      "execution_count": null,
      "outputs": [
        {
          "output_type": "stream",
          "name": "stderr",
          "text": [
            "/usr/local/lib/python3.10/dist-packages/keras/src/engine/training.py:3103: UserWarning: You are saving your model as an HDF5 file via `model.save()`. This file format is considered legacy. We recommend using instead the native Keras format, e.g. `model.save('my_model.keras')`.\n",
            "  saving_api.save_model(\n"
          ]
        }
      ]
    },
    {
      "cell_type": "code",
      "source": [
        "from tensorflow.keras.models import load_model\n",
        "from tensorflow.keras.preprocessing import image\n",
        "import numpy as np\n",
        "\n",
        "#Load the saved model\n",
        "model = load_model('/content/Model.h5')\n",
        "\n",
        "#Load and preprocess the test image\n",
        "test_image_path = '/content/drive/MyDrive/Brain_Tumor_Detection/test/pred/pred17.jpg'\n",
        "img = image.load_img(test_image_path,target_size=(224,224))\n",
        "img_array = image.img_to_array(img)\n",
        "img_array = np.expand_dims(img_array,axis=0) #Add batch dimension\n",
        "img_array /=255. #Normalizethe pixel values\n",
        "#Make predictions\n",
        "prediction = model.predict(img_array)\n",
        "# print the prediction\n",
        "if prediction < 0.5:\n",
        "  print(\"Prediction:No tumor (Probability:\",prediction[0][0],\")\")\n",
        "else:\n",
        "  print(\"Prediction: Tumor present (Probability:\",prediction[0][0],\")\")"
      ],
      "metadata": {
        "colab": {
          "base_uri": "https://localhost:8080/"
        },
        "id": "NU4XYMGdpjWv",
        "outputId": "cd842682-17c2-4c71-b48e-a44297c1f108"
      },
      "execution_count": null,
      "outputs": [
        {
          "output_type": "stream",
          "name": "stdout",
          "text": [
            "1/1 [==============================] - 0s 102ms/step\n",
            "Prediction:No tumor (Probability: 0.06577688 )\n"
          ]
        }
      ]
    }
  ]
}